{
 "cells": [
  {
   "cell_type": "markdown",
   "id": "58b1ee60",
   "metadata": {},
   "source": [
    "## Q2: (100 point) \n",
    "- Linear regression. Please follow the instructions of Q2 to fulfill the demo code, then execute linear regression program and show related results."
   ]
  },
  {
   "cell_type": "markdown",
   "id": "69e46edc",
   "metadata": {},
   "source": [
    "### Instruction for Linear Regression\n",
    "\n",
    "\n",
    "#### Background\n",
    "You are given 100 two dimension points that roughly around a line $Y = mX + b$. \n",
    "You need to find the slope $m$ and y-intercept $b$ by using gradient descent.\n",
    "\n",
    "\n",
    "#### Linear Regression Algorithm\n",
    "1. Load the data point set;\n",
    "2. Initialize parameters of line;\n",
    "3. Calculate the MSE;\n",
    "4. Compute gradients of all parameters;\n",
    "5. Update parameters by using gradient descent;\n",
    "6. Repeat step3 to step5 for n iterations.\n",
    "7. Draw the line (The demo figure is shown as follows)\n",
    "\n",
    "![title](./linear_regression_demo.eps)\n",
    "\n",
    "\n",
    "#### Task\n",
    "1. In the 'step_gradient_update' function, compute the correct negative gradients of 'b'. (20 points)\n",
    "2. compute the correct negative gradient of 'm'. (20 points)\n",
    "3. Update 'b' parameter by using gradient descent. (30 points)\n",
    "4. Update 'm' parameter by using gradient descent. (30 points)\n",
    "\n",
    "\n",
    "#### System Requirements\n",
    "We require you use Python 3.x and related packages such as numpy and matplotlib.\n",
    "\n",
    "\n",
    "\n",
    "#### Reference\n",
    "\n",
    "https://spin.atomicobject.com/wp-content/uploads/linear_regression_gradient1.png"
   ]
  },
  {
   "cell_type": "code",
   "execution_count": 1,
   "id": "dd2376cd",
   "metadata": {},
   "outputs": [
    {
     "name": "stdout",
     "output_type": "stream",
     "text": [
      "Starting gradient descent at b = 0.00, m = 0.00, error = 556510.78\n",
      "Running...\n",
      "After 1000 iterations b = 0.09, m = 1.48, error = 11261.48\n"
     ]
    },
    {
     "data": {
      "image/png": "[encoded data removed]",
      "text/plain": [
       "<Figure size 640x480 with 1 Axes>"
      ]
     },
     "metadata": {},
     "output_type": "display_data"
    }
   ],
   "source": [
    "from numpy import *\n",
    "import matplotlib.pyplot as plt\n",
    "\n",
    "\n",
    "def mean_squared_error(b, m, points):\n",
    "    totalError = 0\n",
    "    for i in range(0, len(points)):\n",
    "        x = points[i, 0]\n",
    "        y = points[i, 1]\n",
    "        totalError += (y - (m * x + b)) ** 2\n",
    "    return totalError\n",
    "\n",
    "# Input: current parameters m and b; data points, learning rate;\n",
    "# Output: Updated new parameters m and b by using gradient descent.\n",
    "def step_gradient_update(b, m, points, learning_rate):\n",
    "    b_gradient = 0\n",
    "    m_gradient = 0\n",
    "    \n",
    "    N = len(points)\n",
    "    \n",
    "    # Caculate b gradient\n",
    "    for i in range(len(points)):\n",
    "        x = points[i, 0]\n",
    "        y = points[i, 1]\n",
    "        b_gradient = b_gradient + (y - m * x - b)\n",
    "        m_gradient = m_gradient + x * (y - m * x - b) \n",
    "        \n",
    "    b_gradient = (-2) * b_gradient/N\n",
    "    m_gradient = (-2) * m_gradient/N\n",
    "      \n",
    "    # update b and m\n",
    "    new_b = b - (learning_rate * b_gradient)\n",
    "    new_m = m - (learning_rate * m_gradient)\n",
    "    \n",
    "    return new_b, new_m\n",
    "\n",
    "\n",
    "# Draw the line\n",
    "def draw_plot(points, b, m):\n",
    "    x_0 = arange(20, 80)\n",
    "    plt.plot(x_0, m * x_0 + b, linestyle=\"--\", color=\"g\", linewidth=1.0)\n",
    "    x = points[:, 0]\n",
    "    y = points[:, 1]\n",
    "    plt.scatter(x, y, s=5, c='r', alpha=1.0, lw=0)\n",
    "    plt.savefig(\"linear_regression.eps\", dpi=120)\n",
    "\n",
    "\n",
    "def run():\n",
    "    points = genfromtxt(\"data.csv\", delimiter=\",\")\n",
    "    learning_rate = 0.0001\n",
    "    b = 0 \n",
    "    m = 0 \n",
    "    num_iterations = 1000\n",
    "    print(\"Starting gradient descent at b = {:.2f}, m = {:.2f}, error = {:.2f}\".format(b, m, mean_squared_error(b, m, points)))\n",
    "    print(\"Running...\")\n",
    "    for i in range(num_iterations):\n",
    "        b, m = step_gradient_update(b, m, array(points), learning_rate)\n",
    "    print(\"After {:d} iterations b = {:.2f}, m = {:.2f}, error = {:.2f}\".format(num_iterations, b, m, mean_squared_error(b, m, points)))\n",
    "    draw_plot(points,b,m)\n",
    "\n",
    "\n",
    "if __name__ == '__main__':\n",
    "    run()"
   ]
  },
  {
   "cell_type": "code",
   "execution_count": null,
   "id": "bc1e9246",
   "metadata": {},
   "outputs": [],
   "source": []
  }
 ],
 "metadata": {
  "kernelspec": {
   "display_name": "Python 3 (ipykernel)",
   "language": "python",
   "name": "python3"
  },
  "language_info": {
   "codemirror_mode": {
    "name": "ipython",
    "version": 3
   },
   "file_extension": ".py",
   "mimetype": "text/x-python",
   "name": "python",
   "nbconvert_exporter": "python",
   "pygments_lexer": "ipython3",
   "version": "3.9.1"
  }
 },
 "nbformat": 4,
 "nbformat_minor": 5
}
